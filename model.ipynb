{
  "nbformat": 4,
  "nbformat_minor": 0,
  "metadata": {
    "kernelspec": {
      "name": "python3",
      "display_name": "Python 3"
    },
    "language_info": {
      "codemirror_mode": {
        "name": "ipython",
        "version": 3
      },
      "file_extension": ".py",
      "mimetype": "text/x-python",
      "name": "python",
      "nbconvert_exporter": "python",
      "pygments_lexer": "ipython3",
      "version": "3.6.8"
    },
    "colab": {
      "name": "model.ipynb",
      "provenance": [],
      "toc_visible": true,
      "include_colab_link": true
    },
    "accelerator": "GPU"
  },
  "cells": [
    {
      "cell_type": "markdown",
      "metadata": {
        "id": "view-in-github",
        "colab_type": "text"
      },
      "source": [
        "<a href=\"https://colab.research.google.com/github/imdeepmind/BrandLogoDetection/blob/master/model.ipynb\" target=\"_parent\"><img src=\"https://colab.research.google.com/assets/colab-badge.svg\" alt=\"Open In Colab\"/></a>"
      ]
    },
    {
      "cell_type": "markdown",
      "metadata": {
        "id": "7s5_7pXFzKEE",
        "colab_type": "text"
      },
      "source": [
        "# Brand Logo Classifier\n",
        "\n",
        "by Abhishek Chatterjee(abhishekchatterjeejit@gmail.com)\n"
      ]
    },
    {
      "cell_type": "markdown",
      "metadata": {
        "id": "_KSNiQMmzKEM",
        "colab_type": "text"
      },
      "source": [
        "## 1.0 Constants"
      ]
    },
    {
      "cell_type": "code",
      "metadata": {
        "id": "eql9UNxfzKER",
        "colab_type": "code",
        "colab": {}
      },
      "source": [
        "# Constants\n",
        "BATCH_SIZE = 128\n",
        "EPOCHS=30"
      ],
      "execution_count": 0,
      "outputs": []
    },
    {
      "cell_type": "markdown",
      "metadata": {
        "id": "zXPRoa56wet6",
        "colab_type": "text"
      },
      "source": [
        "## 2.0 Preparing the Development Environment"
      ]
    },
    {
      "cell_type": "code",
      "metadata": {
        "id": "m1Iue5j02l6M",
        "colab_type": "code",
        "outputId": "fa16a0df-4d3e-4f60-ce1c-31643a2235ca",
        "colab": {
          "base_uri": "https://localhost:8080/",
          "height": 242
        }
      },
      "source": [
        "# Installing pytorch, torchvision, and matplotlib\n",
        "!pip install torch torchvision matplotlib\n",
        "\n",
        "# Connecting Google Drive\n",
        "from google.colab import drive\n",
        "drive.mount('/content/drive')\n",
        "\n",
        "# Making dirs\n",
        "!mkdir datasets\n",
        "!mkdir datasets/processed\n",
        "\n",
        "# Copying the file from Google Drive\n",
        "!cp 'drive/My Drive/dataset/brandLogo/brandLogo.zip' .\n",
        "\n",
        "# Extracting the file\n",
        "!unzip -qq brandLogo.zip -d 'datasets/processed'"
      ],
      "execution_count": 2,
      "outputs": [
        {
          "output_type": "stream",
          "text": [
            "Requirement already satisfied: torch in /usr/local/lib/python3.6/dist-packages (1.3.1+cu100)\n",
            "Requirement already satisfied: torchvision in /usr/local/lib/python3.6/dist-packages (0.4.2+cu100)\n",
            "Requirement already satisfied: matplotlib in /usr/local/lib/python3.6/dist-packages (3.1.1)\n",
            "Requirement already satisfied: numpy in /usr/local/lib/python3.6/dist-packages (from torch) (1.17.4)\n",
            "Requirement already satisfied: six in /usr/local/lib/python3.6/dist-packages (from torchvision) (1.12.0)\n",
            "Requirement already satisfied: pillow>=4.1.1 in /usr/local/lib/python3.6/dist-packages (from torchvision) (4.3.0)\n",
            "Requirement already satisfied: pyparsing!=2.0.4,!=2.1.2,!=2.1.6,>=2.0.1 in /usr/local/lib/python3.6/dist-packages (from matplotlib) (2.4.5)\n",
            "Requirement already satisfied: cycler>=0.10 in /usr/local/lib/python3.6/dist-packages (from matplotlib) (0.10.0)\n",
            "Requirement already satisfied: kiwisolver>=1.0.1 in /usr/local/lib/python3.6/dist-packages (from matplotlib) (1.1.0)\n",
            "Requirement already satisfied: python-dateutil>=2.1 in /usr/local/lib/python3.6/dist-packages (from matplotlib) (2.6.1)\n",
            "Requirement already satisfied: olefile in /usr/local/lib/python3.6/dist-packages (from pillow>=4.1.1->torchvision) (0.46)\n",
            "Requirement already satisfied: setuptools in /usr/local/lib/python3.6/dist-packages (from kiwisolver>=1.0.1->matplotlib) (41.4.0)\n",
            "Drive already mounted at /content/drive; to attempt to forcibly remount, call drive.mount(\"/content/drive\", force_remount=True).\n"
          ],
          "name": "stdout"
        }
      ]
    },
    {
      "cell_type": "markdown",
      "metadata": {
        "id": "QBhoG0NEzKEe",
        "colab_type": "text"
      },
      "source": [
        "## Preparing the data"
      ]
    },
    {
      "cell_type": "code",
      "metadata": {
        "id": "pSb_YdoSzKEi",
        "colab_type": "code",
        "colab": {}
      },
      "source": [
        "# Importing dependencies\n",
        "from torchvision import datasets, transforms\n",
        "from torch.utils.data import DataLoader"
      ],
      "execution_count": 0,
      "outputs": []
    },
    {
      "cell_type": "code",
      "metadata": {
        "id": "1oQlta9ezKEs",
        "colab_type": "code",
        "colab": {}
      },
      "source": [
        "# Data Transforms\n",
        "transform_train = transforms.Compose([transforms.Resize((224,224)),\n",
        "                                      transforms.RandomHorizontalFlip(),\n",
        "                                      transforms.RandomAffine(0, shear=10, scale=(0.8,1.2)),\n",
        "                                      transforms.ColorJitter(brightness=1, contrast=1, saturation=1),\n",
        "                                      transforms.ToTensor(),\n",
        "                                      transforms.Normalize((0.5, 0.5, 0.5), (0.5, 0.5, 0.5))])\n",
        "\n",
        "transform_test = transforms.Compose([transforms.Resize((224,224)),\n",
        "                                     transforms.ToTensor(),\n",
        "                                     transforms.Normalize((0.5, 0.5, 0.5), (0.5, 0.5, 0.5))])"
      ],
      "execution_count": 0,
      "outputs": []
    },
    {
      "cell_type": "code",
      "metadata": {
        "id": "Wu7ZwSp2zKE0",
        "colab_type": "code",
        "colab": {}
      },
      "source": [
        "# Reading the dataset from the folders\n",
        "training_data = datasets.ImageFolder('datasets/processed/train', transform=transform_train)\n",
        "validation_data = datasets.ImageFolder('datasets/processed/validation', transform=transform_test)\n",
        "testing_data = datasets.ImageFolder('datasets/processed/test', transform=transform_test)"
      ],
      "execution_count": 0,
      "outputs": []
    },
    {
      "cell_type": "code",
      "metadata": {
        "id": "tdD3w0plzKE9",
        "colab_type": "code",
        "colab": {}
      },
      "source": [
        "# Initializing the data loaders\n",
        "training = DataLoader(training_data, batch_size=BATCH_SIZE, shuffle=True)\n",
        "validation = DataLoader(validation_data, batch_size=BATCH_SIZE, shuffle=True)\n",
        "testing = DataLoader(testing_data, batch_size=BATCH_SIZE, shuffle=False)"
      ],
      "execution_count": 0,
      "outputs": []
    },
    {
      "cell_type": "markdown",
      "metadata": {
        "id": "MohkGMEqzKFE",
        "colab_type": "text"
      },
      "source": [
        "## The Model\n",
        "\n",
        "Here I'm using ResNet50 pretrained model."
      ]
    },
    {
      "cell_type": "code",
      "metadata": {
        "id": "ObsAp8PEzKFG",
        "colab_type": "code",
        "colab": {}
      },
      "source": [
        "from torchvision import models\n",
        "import torch.nn as nn\n",
        "import torch"
      ],
      "execution_count": 0,
      "outputs": []
    },
    {
      "cell_type": "code",
      "metadata": {
        "id": "XhP0RIpKzKFM",
        "colab_type": "code",
        "outputId": "e2b8d4e6-3fb6-422d-aaf3-8b5111f4e786",
        "colab": {
          "base_uri": "https://localhost:8080/",
          "height": 34
        }
      },
      "source": [
        "# Checking the available device (gpu or cpu)\n",
        "device = torch.device(\"cuda:0\" if torch.cuda.is_available() else \"cpu\")\n",
        "print('Running the model in ', device.type)"
      ],
      "execution_count": 8,
      "outputs": [
        {
          "output_type": "stream",
          "text": [
            "Running the model in  cuda\n"
          ],
          "name": "stdout"
        }
      ]
    },
    {
      "cell_type": "code",
      "metadata": {
        "id": "8OfohT8AzKFV",
        "colab_type": "code",
        "colab": {}
      },
      "source": [
        "# Initializing the Resnet50 model\n",
        "model = models.resnet50(pretrained=True)"
      ],
      "execution_count": 0,
      "outputs": []
    },
    {
      "cell_type": "code",
      "metadata": {
        "id": "NOtW-rS4zKFf",
        "colab_type": "code",
        "colab": {}
      },
      "source": [
        "# Frezing the model\n",
        "for param in model.parameters():\n",
        "    param.requires_grad = False"
      ],
      "execution_count": 0,
      "outputs": []
    },
    {
      "cell_type": "code",
      "metadata": {
        "id": "st9Cmb0UzKFn",
        "colab_type": "code",
        "outputId": "7589f18a-55ca-4067-f5ad-0e1304c3f923",
        "colab": {
          "base_uri": "https://localhost:8080/",
          "height": 1000
        }
      },
      "source": [
        "# Updating the last layer of the model\n",
        "n_inputs = model.fc.in_features\n",
        "last_layer = nn.Linear(n_inputs, 32)\n",
        "model.fc = last_layer\n",
        "model.to(device)"
      ],
      "execution_count": 11,
      "outputs": [
        {
          "output_type": "execute_result",
          "data": {
            "text/plain": [
              "ResNet(\n",
              "  (conv1): Conv2d(3, 64, kernel_size=(7, 7), stride=(2, 2), padding=(3, 3), bias=False)\n",
              "  (bn1): BatchNorm2d(64, eps=1e-05, momentum=0.1, affine=True, track_running_stats=True)\n",
              "  (relu): ReLU(inplace=True)\n",
              "  (maxpool): MaxPool2d(kernel_size=3, stride=2, padding=1, dilation=1, ceil_mode=False)\n",
              "  (layer1): Sequential(\n",
              "    (0): Bottleneck(\n",
              "      (conv1): Conv2d(64, 64, kernel_size=(1, 1), stride=(1, 1), bias=False)\n",
              "      (bn1): BatchNorm2d(64, eps=1e-05, momentum=0.1, affine=True, track_running_stats=True)\n",
              "      (conv2): Conv2d(64, 64, kernel_size=(3, 3), stride=(1, 1), padding=(1, 1), bias=False)\n",
              "      (bn2): BatchNorm2d(64, eps=1e-05, momentum=0.1, affine=True, track_running_stats=True)\n",
              "      (conv3): Conv2d(64, 256, kernel_size=(1, 1), stride=(1, 1), bias=False)\n",
              "      (bn3): BatchNorm2d(256, eps=1e-05, momentum=0.1, affine=True, track_running_stats=True)\n",
              "      (relu): ReLU(inplace=True)\n",
              "      (downsample): Sequential(\n",
              "        (0): Conv2d(64, 256, kernel_size=(1, 1), stride=(1, 1), bias=False)\n",
              "        (1): BatchNorm2d(256, eps=1e-05, momentum=0.1, affine=True, track_running_stats=True)\n",
              "      )\n",
              "    )\n",
              "    (1): Bottleneck(\n",
              "      (conv1): Conv2d(256, 64, kernel_size=(1, 1), stride=(1, 1), bias=False)\n",
              "      (bn1): BatchNorm2d(64, eps=1e-05, momentum=0.1, affine=True, track_running_stats=True)\n",
              "      (conv2): Conv2d(64, 64, kernel_size=(3, 3), stride=(1, 1), padding=(1, 1), bias=False)\n",
              "      (bn2): BatchNorm2d(64, eps=1e-05, momentum=0.1, affine=True, track_running_stats=True)\n",
              "      (conv3): Conv2d(64, 256, kernel_size=(1, 1), stride=(1, 1), bias=False)\n",
              "      (bn3): BatchNorm2d(256, eps=1e-05, momentum=0.1, affine=True, track_running_stats=True)\n",
              "      (relu): ReLU(inplace=True)\n",
              "    )\n",
              "    (2): Bottleneck(\n",
              "      (conv1): Conv2d(256, 64, kernel_size=(1, 1), stride=(1, 1), bias=False)\n",
              "      (bn1): BatchNorm2d(64, eps=1e-05, momentum=0.1, affine=True, track_running_stats=True)\n",
              "      (conv2): Conv2d(64, 64, kernel_size=(3, 3), stride=(1, 1), padding=(1, 1), bias=False)\n",
              "      (bn2): BatchNorm2d(64, eps=1e-05, momentum=0.1, affine=True, track_running_stats=True)\n",
              "      (conv3): Conv2d(64, 256, kernel_size=(1, 1), stride=(1, 1), bias=False)\n",
              "      (bn3): BatchNorm2d(256, eps=1e-05, momentum=0.1, affine=True, track_running_stats=True)\n",
              "      (relu): ReLU(inplace=True)\n",
              "    )\n",
              "  )\n",
              "  (layer2): Sequential(\n",
              "    (0): Bottleneck(\n",
              "      (conv1): Conv2d(256, 128, kernel_size=(1, 1), stride=(1, 1), bias=False)\n",
              "      (bn1): BatchNorm2d(128, eps=1e-05, momentum=0.1, affine=True, track_running_stats=True)\n",
              "      (conv2): Conv2d(128, 128, kernel_size=(3, 3), stride=(2, 2), padding=(1, 1), bias=False)\n",
              "      (bn2): BatchNorm2d(128, eps=1e-05, momentum=0.1, affine=True, track_running_stats=True)\n",
              "      (conv3): Conv2d(128, 512, kernel_size=(1, 1), stride=(1, 1), bias=False)\n",
              "      (bn3): BatchNorm2d(512, eps=1e-05, momentum=0.1, affine=True, track_running_stats=True)\n",
              "      (relu): ReLU(inplace=True)\n",
              "      (downsample): Sequential(\n",
              "        (0): Conv2d(256, 512, kernel_size=(1, 1), stride=(2, 2), bias=False)\n",
              "        (1): BatchNorm2d(512, eps=1e-05, momentum=0.1, affine=True, track_running_stats=True)\n",
              "      )\n",
              "    )\n",
              "    (1): Bottleneck(\n",
              "      (conv1): Conv2d(512, 128, kernel_size=(1, 1), stride=(1, 1), bias=False)\n",
              "      (bn1): BatchNorm2d(128, eps=1e-05, momentum=0.1, affine=True, track_running_stats=True)\n",
              "      (conv2): Conv2d(128, 128, kernel_size=(3, 3), stride=(1, 1), padding=(1, 1), bias=False)\n",
              "      (bn2): BatchNorm2d(128, eps=1e-05, momentum=0.1, affine=True, track_running_stats=True)\n",
              "      (conv3): Conv2d(128, 512, kernel_size=(1, 1), stride=(1, 1), bias=False)\n",
              "      (bn3): BatchNorm2d(512, eps=1e-05, momentum=0.1, affine=True, track_running_stats=True)\n",
              "      (relu): ReLU(inplace=True)\n",
              "    )\n",
              "    (2): Bottleneck(\n",
              "      (conv1): Conv2d(512, 128, kernel_size=(1, 1), stride=(1, 1), bias=False)\n",
              "      (bn1): BatchNorm2d(128, eps=1e-05, momentum=0.1, affine=True, track_running_stats=True)\n",
              "      (conv2): Conv2d(128, 128, kernel_size=(3, 3), stride=(1, 1), padding=(1, 1), bias=False)\n",
              "      (bn2): BatchNorm2d(128, eps=1e-05, momentum=0.1, affine=True, track_running_stats=True)\n",
              "      (conv3): Conv2d(128, 512, kernel_size=(1, 1), stride=(1, 1), bias=False)\n",
              "      (bn3): BatchNorm2d(512, eps=1e-05, momentum=0.1, affine=True, track_running_stats=True)\n",
              "      (relu): ReLU(inplace=True)\n",
              "    )\n",
              "    (3): Bottleneck(\n",
              "      (conv1): Conv2d(512, 128, kernel_size=(1, 1), stride=(1, 1), bias=False)\n",
              "      (bn1): BatchNorm2d(128, eps=1e-05, momentum=0.1, affine=True, track_running_stats=True)\n",
              "      (conv2): Conv2d(128, 128, kernel_size=(3, 3), stride=(1, 1), padding=(1, 1), bias=False)\n",
              "      (bn2): BatchNorm2d(128, eps=1e-05, momentum=0.1, affine=True, track_running_stats=True)\n",
              "      (conv3): Conv2d(128, 512, kernel_size=(1, 1), stride=(1, 1), bias=False)\n",
              "      (bn3): BatchNorm2d(512, eps=1e-05, momentum=0.1, affine=True, track_running_stats=True)\n",
              "      (relu): ReLU(inplace=True)\n",
              "    )\n",
              "  )\n",
              "  (layer3): Sequential(\n",
              "    (0): Bottleneck(\n",
              "      (conv1): Conv2d(512, 256, kernel_size=(1, 1), stride=(1, 1), bias=False)\n",
              "      (bn1): BatchNorm2d(256, eps=1e-05, momentum=0.1, affine=True, track_running_stats=True)\n",
              "      (conv2): Conv2d(256, 256, kernel_size=(3, 3), stride=(2, 2), padding=(1, 1), bias=False)\n",
              "      (bn2): BatchNorm2d(256, eps=1e-05, momentum=0.1, affine=True, track_running_stats=True)\n",
              "      (conv3): Conv2d(256, 1024, kernel_size=(1, 1), stride=(1, 1), bias=False)\n",
              "      (bn3): BatchNorm2d(1024, eps=1e-05, momentum=0.1, affine=True, track_running_stats=True)\n",
              "      (relu): ReLU(inplace=True)\n",
              "      (downsample): Sequential(\n",
              "        (0): Conv2d(512, 1024, kernel_size=(1, 1), stride=(2, 2), bias=False)\n",
              "        (1): BatchNorm2d(1024, eps=1e-05, momentum=0.1, affine=True, track_running_stats=True)\n",
              "      )\n",
              "    )\n",
              "    (1): Bottleneck(\n",
              "      (conv1): Conv2d(1024, 256, kernel_size=(1, 1), stride=(1, 1), bias=False)\n",
              "      (bn1): BatchNorm2d(256, eps=1e-05, momentum=0.1, affine=True, track_running_stats=True)\n",
              "      (conv2): Conv2d(256, 256, kernel_size=(3, 3), stride=(1, 1), padding=(1, 1), bias=False)\n",
              "      (bn2): BatchNorm2d(256, eps=1e-05, momentum=0.1, affine=True, track_running_stats=True)\n",
              "      (conv3): Conv2d(256, 1024, kernel_size=(1, 1), stride=(1, 1), bias=False)\n",
              "      (bn3): BatchNorm2d(1024, eps=1e-05, momentum=0.1, affine=True, track_running_stats=True)\n",
              "      (relu): ReLU(inplace=True)\n",
              "    )\n",
              "    (2): Bottleneck(\n",
              "      (conv1): Conv2d(1024, 256, kernel_size=(1, 1), stride=(1, 1), bias=False)\n",
              "      (bn1): BatchNorm2d(256, eps=1e-05, momentum=0.1, affine=True, track_running_stats=True)\n",
              "      (conv2): Conv2d(256, 256, kernel_size=(3, 3), stride=(1, 1), padding=(1, 1), bias=False)\n",
              "      (bn2): BatchNorm2d(256, eps=1e-05, momentum=0.1, affine=True, track_running_stats=True)\n",
              "      (conv3): Conv2d(256, 1024, kernel_size=(1, 1), stride=(1, 1), bias=False)\n",
              "      (bn3): BatchNorm2d(1024, eps=1e-05, momentum=0.1, affine=True, track_running_stats=True)\n",
              "      (relu): ReLU(inplace=True)\n",
              "    )\n",
              "    (3): Bottleneck(\n",
              "      (conv1): Conv2d(1024, 256, kernel_size=(1, 1), stride=(1, 1), bias=False)\n",
              "      (bn1): BatchNorm2d(256, eps=1e-05, momentum=0.1, affine=True, track_running_stats=True)\n",
              "      (conv2): Conv2d(256, 256, kernel_size=(3, 3), stride=(1, 1), padding=(1, 1), bias=False)\n",
              "      (bn2): BatchNorm2d(256, eps=1e-05, momentum=0.1, affine=True, track_running_stats=True)\n",
              "      (conv3): Conv2d(256, 1024, kernel_size=(1, 1), stride=(1, 1), bias=False)\n",
              "      (bn3): BatchNorm2d(1024, eps=1e-05, momentum=0.1, affine=True, track_running_stats=True)\n",
              "      (relu): ReLU(inplace=True)\n",
              "    )\n",
              "    (4): Bottleneck(\n",
              "      (conv1): Conv2d(1024, 256, kernel_size=(1, 1), stride=(1, 1), bias=False)\n",
              "      (bn1): BatchNorm2d(256, eps=1e-05, momentum=0.1, affine=True, track_running_stats=True)\n",
              "      (conv2): Conv2d(256, 256, kernel_size=(3, 3), stride=(1, 1), padding=(1, 1), bias=False)\n",
              "      (bn2): BatchNorm2d(256, eps=1e-05, momentum=0.1, affine=True, track_running_stats=True)\n",
              "      (conv3): Conv2d(256, 1024, kernel_size=(1, 1), stride=(1, 1), bias=False)\n",
              "      (bn3): BatchNorm2d(1024, eps=1e-05, momentum=0.1, affine=True, track_running_stats=True)\n",
              "      (relu): ReLU(inplace=True)\n",
              "    )\n",
              "    (5): Bottleneck(\n",
              "      (conv1): Conv2d(1024, 256, kernel_size=(1, 1), stride=(1, 1), bias=False)\n",
              "      (bn1): BatchNorm2d(256, eps=1e-05, momentum=0.1, affine=True, track_running_stats=True)\n",
              "      (conv2): Conv2d(256, 256, kernel_size=(3, 3), stride=(1, 1), padding=(1, 1), bias=False)\n",
              "      (bn2): BatchNorm2d(256, eps=1e-05, momentum=0.1, affine=True, track_running_stats=True)\n",
              "      (conv3): Conv2d(256, 1024, kernel_size=(1, 1), stride=(1, 1), bias=False)\n",
              "      (bn3): BatchNorm2d(1024, eps=1e-05, momentum=0.1, affine=True, track_running_stats=True)\n",
              "      (relu): ReLU(inplace=True)\n",
              "    )\n",
              "  )\n",
              "  (layer4): Sequential(\n",
              "    (0): Bottleneck(\n",
              "      (conv1): Conv2d(1024, 512, kernel_size=(1, 1), stride=(1, 1), bias=False)\n",
              "      (bn1): BatchNorm2d(512, eps=1e-05, momentum=0.1, affine=True, track_running_stats=True)\n",
              "      (conv2): Conv2d(512, 512, kernel_size=(3, 3), stride=(2, 2), padding=(1, 1), bias=False)\n",
              "      (bn2): BatchNorm2d(512, eps=1e-05, momentum=0.1, affine=True, track_running_stats=True)\n",
              "      (conv3): Conv2d(512, 2048, kernel_size=(1, 1), stride=(1, 1), bias=False)\n",
              "      (bn3): BatchNorm2d(2048, eps=1e-05, momentum=0.1, affine=True, track_running_stats=True)\n",
              "      (relu): ReLU(inplace=True)\n",
              "      (downsample): Sequential(\n",
              "        (0): Conv2d(1024, 2048, kernel_size=(1, 1), stride=(2, 2), bias=False)\n",
              "        (1): BatchNorm2d(2048, eps=1e-05, momentum=0.1, affine=True, track_running_stats=True)\n",
              "      )\n",
              "    )\n",
              "    (1): Bottleneck(\n",
              "      (conv1): Conv2d(2048, 512, kernel_size=(1, 1), stride=(1, 1), bias=False)\n",
              "      (bn1): BatchNorm2d(512, eps=1e-05, momentum=0.1, affine=True, track_running_stats=True)\n",
              "      (conv2): Conv2d(512, 512, kernel_size=(3, 3), stride=(1, 1), padding=(1, 1), bias=False)\n",
              "      (bn2): BatchNorm2d(512, eps=1e-05, momentum=0.1, affine=True, track_running_stats=True)\n",
              "      (conv3): Conv2d(512, 2048, kernel_size=(1, 1), stride=(1, 1), bias=False)\n",
              "      (bn3): BatchNorm2d(2048, eps=1e-05, momentum=0.1, affine=True, track_running_stats=True)\n",
              "      (relu): ReLU(inplace=True)\n",
              "    )\n",
              "    (2): Bottleneck(\n",
              "      (conv1): Conv2d(2048, 512, kernel_size=(1, 1), stride=(1, 1), bias=False)\n",
              "      (bn1): BatchNorm2d(512, eps=1e-05, momentum=0.1, affine=True, track_running_stats=True)\n",
              "      (conv2): Conv2d(512, 512, kernel_size=(3, 3), stride=(1, 1), padding=(1, 1), bias=False)\n",
              "      (bn2): BatchNorm2d(512, eps=1e-05, momentum=0.1, affine=True, track_running_stats=True)\n",
              "      (conv3): Conv2d(512, 2048, kernel_size=(1, 1), stride=(1, 1), bias=False)\n",
              "      (bn3): BatchNorm2d(2048, eps=1e-05, momentum=0.1, affine=True, track_running_stats=True)\n",
              "      (relu): ReLU(inplace=True)\n",
              "    )\n",
              "  )\n",
              "  (avgpool): AdaptiveAvgPool2d(output_size=(1, 1))\n",
              "  (fc): Linear(in_features=2048, out_features=32, bias=True)\n",
              ")"
            ]
          },
          "metadata": {
            "tags": []
          },
          "execution_count": 11
        }
      ]
    },
    {
      "cell_type": "markdown",
      "metadata": {
        "id": "8XmuAdNRzKFv",
        "colab_type": "text"
      },
      "source": [
        "## Training the model"
      ]
    },
    {
      "cell_type": "code",
      "metadata": {
        "id": "ps09QfXDzKFy",
        "colab_type": "code",
        "colab": {}
      },
      "source": [
        "# Initializng the loss function and optimizer\n",
        "criterion = nn.CrossEntropyLoss()\n",
        "optimizer = torch.optim.Adam(model.parameters())"
      ],
      "execution_count": 0,
      "outputs": []
    },
    {
      "cell_type": "code",
      "metadata": {
        "id": "D6YFSg1FzKF6",
        "colab_type": "code",
        "colab": {}
      },
      "source": [
        "training_losses = []\n",
        "validation_losses = []\n",
        "\n",
        "training_accuracy = []\n",
        "validation_accuracy = []"
      ],
      "execution_count": 0,
      "outputs": []
    },
    {
      "cell_type": "code",
      "metadata": {
        "id": "B6AdSQNpzKGE",
        "colab_type": "code",
        "outputId": "12f4daa9-55d1-47c5-d012-ba32feda20aa",
        "colab": {
          "base_uri": "https://localhost:8080/",
          "height": 557
        }
      },
      "source": [
        "for i in range(0, EPOCHS):\n",
        "    training_epoch_loss = 0.0\n",
        "    validation_epoch_loss = 0.0\n",
        "\n",
        "    training_epoch_correct = 0\n",
        "    validation_epoch_correct = 0\n",
        "\n",
        "    for inputs, labels in training:\n",
        "        inputs = inputs.to(device)\n",
        "        labels = labels.to(device)\n",
        "        \n",
        "        outputs = model(inputs)\n",
        "        loss = criterion(outputs, labels)\n",
        "        _, preds = torch.max(outputs, 1)\n",
        "        \n",
        "        training_epoch_loss += loss.item()\n",
        "        training_epoch_correct += torch.sum(preds == labels.data).cpu().numpy()\n",
        "        \n",
        "        optimizer.zero_grad()\n",
        "        loss.backward()\n",
        "        optimizer.step()\n",
        "\n",
        "    with torch.no_grad():\n",
        "        for inputs, labels in validation:\n",
        "            inputs = inputs.to(device)\n",
        "            labels = labels.to(device)\n",
        "\n",
        "            outputs = model(inputs)\n",
        "            loss = criterion(outputs, labels)\n",
        "            _, preds = torch.max(outputs, 1)\n",
        "\n",
        "            validation_epoch_loss += loss.item()\n",
        "            validation_epoch_correct += torch.sum(preds == labels.data).cpu().numpy()\n",
        "    \n",
        "    training_average_loss = training_epoch_loss/len(training.dataset)\n",
        "    training_epoch_accuracy = (training_epoch_correct/len(training.dataset))*100\n",
        "\n",
        "    validation_average_loss = validation_epoch_loss/len(validation.dataset)\n",
        "    validation_epoch_accuracy = (validation_epoch_correct/len(validation.dataset))*100\n",
        "    \n",
        "    training_losses.append(training_average_loss)\n",
        "    training_accuracy.append(training_epoch_accuracy)\n",
        "\n",
        "    validation_losses.append(validation_average_loss)\n",
        "    validation_accuracy.append(validation_epoch_accuracy)\n",
        "\n",
        "    print(\"EPOCH: {} Training Loss: {} Training Accuracy: {} Validation Loss: {} Validation Accuracy: {}\".format(i+1, training_average_loss, training_epoch_accuracy, validation_average_loss, validation_epoch_accuracy))"
      ],
      "execution_count": 14,
      "outputs": [
        {
          "output_type": "stream",
          "text": [
            "EPOCH: 1 Training Loss: 0.02223248728982428 Training Accuracy: 24.451912305968957 Validation Loss: 0.016505917432102772 Validation Accuracy: 46.21409921671018\n",
            "EPOCH: 2 Training Loss: 0.01704479030731831 Training Accuracy: 41.71867498799808 Validation Loss: 0.014008923703634397 Validation Accuracy: 53.26370757180157\n",
            "EPOCH: 3 Training Loss: 0.015215468189204707 Training Accuracy: 48.119699151864296 Validation Loss: 0.012848463600049131 Validation Accuracy: 55.483028720626635\n",
            "EPOCH: 4 Training Loss: 0.014489941033082383 Training Accuracy: 49.41590654504721 Validation Loss: 0.012354375955018922 Validation Accuracy: 55.483028720626635\n",
            "EPOCH: 5 Training Loss: 0.013823102447276574 Training Accuracy: 51.78428548567771 Validation Loss: 0.011846715414181702 Validation Accuracy: 59.13838120104439\n",
            "EPOCH: 6 Training Loss: 0.013419630756796332 Training Accuracy: 52.584413506160985 Validation Loss: 0.011530977160750107 Validation Accuracy: 60.052219321148826\n",
            "EPOCH: 7 Training Loss: 0.012948432566166153 Training Accuracy: 54.152664426308206 Validation Loss: 0.01144975703939134 Validation Accuracy: 60.313315926892955\n",
            "EPOCH: 8 Training Loss: 0.012785629570665388 Training Accuracy: 54.584733557369184 Validation Loss: 0.011373443173988682 Validation Accuracy: 60.835509138381205\n",
            "EPOCH: 9 Training Loss: 0.012538313407824695 Training Accuracy: 55.54488718194911 Validation Loss: 0.01134965703008069 Validation Accuracy: 60.313315926892955\n",
            "EPOCH: 10 Training Loss: 0.012415706548600755 Training Accuracy: 55.94495119219075 Validation Loss: 0.011474434451708284 Validation Accuracy: 58.485639686684074\n",
            "EPOCH: 11 Training Loss: 0.01197236184025406 Training Accuracy: 57.6412225956153 Validation Loss: 0.010825049161288508 Validation Accuracy: 62.40208877284596\n",
            "EPOCH: 12 Training Loss: 0.012044590079206375 Training Accuracy: 57.225156024963994 Validation Loss: 0.01077768012064244 Validation Accuracy: 61.096605744125334\n",
            "EPOCH: 13 Training Loss: 0.011917754409217437 Training Accuracy: 56.96911505840935 Validation Loss: 0.01066833127572082 Validation Accuracy: 62.793733681462136\n",
            "EPOCH: 14 Training Loss: 0.011700951036290562 Training Accuracy: 57.75324051848296 Validation Loss: 0.010718244329756295 Validation Accuracy: 61.22715404699739\n",
            "EPOCH: 15 Training Loss: 0.011542721411994522 Training Accuracy: 58.505360857737244 Validation Loss: 0.010745424514650987 Validation Accuracy: 64.49086161879896\n",
            "EPOCH: 16 Training Loss: 0.011304331676619284 Training Accuracy: 59.369499119859185 Validation Loss: 0.01051209178356838 Validation Accuracy: 63.054830287206265\n",
            "EPOCH: 17 Training Loss: 0.011610795276835359 Training Accuracy: 58.07329172667627 Validation Loss: 0.010455489781133188 Validation Accuracy: 63.70757180156657\n",
            "EPOCH: 18 Training Loss: 0.01115325865392247 Training Accuracy: 59.68955032805249 Validation Loss: 0.010453839214912594 Validation Accuracy: 64.09921671018277\n",
            "EPOCH: 19 Training Loss: 0.011129863015326105 Training Accuracy: 59.64154264682349 Validation Loss: 0.010428765268300905 Validation Accuracy: 62.92428198433421\n",
            "EPOCH: 20 Training Loss: 0.011012526469567163 Training Accuracy: 60.23363738198112 Validation Loss: 0.010443692885864497 Validation Accuracy: 62.01044386422977\n",
            "EPOCH: 21 Training Loss: 0.010924754705137587 Training Accuracy: 59.75356056969115 Validation Loss: 0.010372202483543216 Validation Accuracy: 62.01044386422977\n",
            "EPOCH: 22 Training Loss: 0.010992225865818706 Training Accuracy: 60.345655304848776 Validation Loss: 0.010394648378885134 Validation Accuracy: 65.0130548302872\n",
            "EPOCH: 23 Training Loss: 0.01087591136469042 Training Accuracy: 60.601696271403426 Validation Loss: 0.010317777373460815 Validation Accuracy: 63.44647519582245\n",
            "EPOCH: 24 Training Loss: 0.010853742576442846 Training Accuracy: 60.361657865258444 Validation Loss: 0.010270286944765335 Validation Accuracy: 63.70757180156657\n",
            "EPOCH: 25 Training Loss: 0.010660429423590587 Training Accuracy: 61.00176028164507 Validation Loss: 0.010171014552950547 Validation Accuracy: 65.53524804177546\n",
            "EPOCH: 26 Training Loss: 0.010701474580293198 Training Accuracy: 61.17778844615138 Validation Loss: 0.010471373874275864 Validation Accuracy: 62.92428198433421\n",
            "EPOCH: 27 Training Loss: 0.010839793620671934 Training Accuracy: 60.0096015362458 Validation Loss: 0.0102504161879537 Validation Accuracy: 65.14360313315926\n",
            "EPOCH: 28 Training Loss: 0.010560836386043446 Training Accuracy: 61.321811489838375 Validation Loss: 0.010410525935748228 Validation Accuracy: 63.577023498694516\n",
            "EPOCH: 29 Training Loss: 0.010422176657762312 Training Accuracy: 61.4018242918867 Validation Loss: 0.010129985859126398 Validation Accuracy: 64.22976501305483\n",
            "EPOCH: 30 Training Loss: 0.010662356344751977 Training Accuracy: 61.065770523283724 Validation Loss: 0.010489867032352378 Validation Accuracy: 63.9686684073107\n"
          ],
          "name": "stdout"
        }
      ]
    },
    {
      "cell_type": "code",
      "metadata": {
        "id": "XkWEXl-4zKGN",
        "colab_type": "code",
        "colab": {}
      },
      "source": [
        "import matplotlib.pyplot as plt"
      ],
      "execution_count": 0,
      "outputs": []
    },
    {
      "cell_type": "code",
      "metadata": {
        "id": "cJyxKV7NzKGX",
        "colab_type": "code",
        "outputId": "c0aa6a2b-61b8-4507-d4d5-0c7c6b489782",
        "colab": {
          "base_uri": "https://localhost:8080/",
          "height": 282
        }
      },
      "source": [
        "plt.plot(range(0, len(training_losses)), training_losses, label=\"Training Loss\")\n",
        "plt.plot(range(0, len(validation_losses)), validation_losses, label=\"Validation Loss\")\n",
        "plt.legend()"
      ],
      "execution_count": 16,
      "outputs": [
        {
          "output_type": "execute_result",
          "data": {
            "text/plain": [
              "<matplotlib.legend.Legend at 0x7fe438320518>"
            ]
          },
          "metadata": {
            "tags": []
          },
          "execution_count": 16
        },
        {
          "output_type": "display_data",
          "data": {
            "image/png": "[encoded data removed]",
            "text/plain": [
              "<Figure size 432x288 with 1 Axes>"
            ]
          },
          "metadata": {
            "tags": []
          }
        }
      ]
    },
    {
      "cell_type": "code",
      "metadata": {
        "id": "llnqiQPSzKGg",
        "colab_type": "code",
        "outputId": "9119a77d-05bd-438e-a12b-29269267d8a6",
        "colab": {
          "base_uri": "https://localhost:8080/",
          "height": 282
        }
      },
      "source": [
        "plt.plot(range(0, len(training_accuracy)), training_accuracy, label=\"Training Accuracy\")\n",
        "plt.plot(range(0, len(validation_accuracy)), validation_accuracy, label=\"Validation Accuracy\")\n",
        "plt.legend()"
      ],
      "execution_count": 17,
      "outputs": [
        {
          "output_type": "execute_result",
          "data": {
            "text/plain": [
              "<matplotlib.legend.Legend at 0x7fe4380c4588>"
            ]
          },
          "metadata": {
            "tags": []
          },
          "execution_count": 17
        },
        {
          "output_type": "display_data",
          "data": {
            "image/png": "[encoded data removed]",
            "text/plain": [
              "<Figure size 432x288 with 1 Axes>"
            ]
          },
          "metadata": {
            "tags": []
          }
        }
      ]
    }
  ]
}